{
 "cells": [
  {
   "cell_type": "markdown",
   "id": "1410950d",
   "metadata": {},
   "source": [
    "# Assignment\n",
    "\n",
    "In this assignment, we will create an embedding of the characters in the novel \"Les Miserables\" by Victor Hugo.\n",
    "\n",
    "Complete the following tasks and upload your notebook to your GitHub repository.\n",
    "\n",
    "1. Fill in the black functions, marked by, \"\\#TODO\", in the notebook\n",
    "2. Update this notebook by using `git add`, `git commit`, and then `git push`.\n",
    "3. The notebook will be automatically graded, and your score will be shown on GitHub. See [how to check the results on GitHub](https://docs.github.com/en/education/manage-coursework-with-github-classroom/learn-with-github-classroom/view-autograding-results)\n",
    "\n",
    "Dont's:\n",
    "- Do not import any libraries except for the ones that are already imported. The grading script will not work if you import additional libraries.\n",
    "- Do not change the name of the functions. The grading script will not work if you change the name of the functions.\n",
    "- DO not remove the cells with tag \"gradable\". If you happen to remove the cells with tag \"gradable\", recreate the cell and add the tag \"gradable\" to the cell.\n",
    "\n",
    "Do's:\n",
    "- Make the code clearn and easy to understand. Consider using linters & formatters such as `black`. [Youtube: Linters and fixers: never worry about code formatting again (Vim + Ale + Flake8 & Black for Python) by Yong-Yeol Ahn](https://www.youtube.com/watch?v=4FKPySR6HLk)\n",
    "- You can add additional cells as you like. If you want to include the additional cells in the grading, you need to add the tag \"gradable\" to the cell. Otherwise, your additional cells will be stripped out when grading. \n",
    "\n",
    "# Preparation\n",
    "\n",
    "The data we will work with is stored in the file `data` folder. It has two files: \n",
    "1. `chapter-character.csv`: A table that contains the chapter number and the characters in the chapter.\n",
    "2. `character.csv`: A table that contains the characters and their descriptions.\n",
    "\n",
    "The `chapter-character.csv` has the following columns:\n",
    "- `chapter`: The chapter number\n",
    "- `character`: The character names\n",
    "\n",
    "The `character.csv` has the following columns:\n",
    "- `abbreviation`: The abbreviation of the character\n",
    "- `description`: The description of the character\n",
    "- `name`: The full name of the character\n"
   ]
  },
  {
   "cell_type": "code",
   "execution_count": null,
   "id": "11da5289",
   "metadata": {},
   "outputs": [],
   "source": []
  },
  {
   "cell_type": "markdown",
   "id": "98a9f927",
   "metadata": {},
   "source": [
    "The size of the networks:"
   ]
  },
  {
   "cell_type": "code",
   "execution_count": null,
   "id": "9082740b",
   "metadata": {
    "tags": [
     "gradable"
    ]
   },
   "outputs": [],
   "source": [
    "#TODO\n",
    "def func(g):\n",
    "    \"\"\"\n",
    "    TODO: Write a function that returns the number of nodes and edges in the graph.\n",
    "    \"\"\"\n",
    "    pass"
   ]
  }
 ],
 "metadata": {
  "kernelspec": {
   "display_name": "Python 3",
   "language": "python",
   "name": "python3"
  }
 },
 "nbformat": 4,
 "nbformat_minor": 5
}
